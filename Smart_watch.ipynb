{
 "cells": [
  {
   "cell_type": "code",
   "execution_count": 142,
   "metadata": {},
   "outputs": [],
   "source": [
    "import numpy as np\n",
    "import pandas as pd\n",
    "import matplotlib.pyplot as plt\n",
    "from sklearn.linear_model import LinearRegression"
   ]
  },
  {
   "cell_type": "code",
   "execution_count": 143,
   "metadata": {},
   "outputs": [],
   "source": [
    "def get_data():\n",
    "    x_train = pd.read_csv('./Training Data/Linear_X_Train.csv').values.reshape((-1,1))\n",
    "    y_train = pd.read_csv('./Training Data/Linear_Y_Train.csv').values.reshape((-1,1))\n",
    "    x_test =pd.read_csv('./Testing Data/Linear_X_Test.csv').values.reshape((-1,1))\n",
    "    return x_train,y_train,x_test\n"
   ]
  },
  {
   "cell_type": "code",
   "execution_count": 144,
   "metadata": {},
   "outputs": [],
   "source": [
    "#Model fitting is a measure of how well a machine learning model generalizes to similar data to that on which it was trained.\n",
    "#A model that is well-fitted produces more accurate outcomes. A model that is overfitted matches the data too closely. A model that is underfitted doesn't match closely enough.\n",
    "def train_model(x_train,y_train):\n",
    "    model=LinearRegression()  # OBject of this model\n",
    "    model.fit(x_train,y_train)\n",
    "    return model\n",
    "    "
   ]
  },
  {
   "cell_type": "code",
   "execution_count": 145,
   "metadata": {},
   "outputs": [],
   "source": [
    "def predict_y(model,x_test):\n",
    "    y_test = model.predict(x_test)\n",
    "    return y_test"
   ]
  },
  {
   "cell_type": "code",
   "execution_count": 146,
   "metadata": {},
   "outputs": [],
   "source": [
    "def display_output(model,x_train,y_train,x_test,y_test):\n",
    "    intercept=model.intercept_\n",
    "    learning_rate=model.coef_\n",
    "    #score=model.score(x_test,)\n",
    "    print(\"Bias/Intercept :\",intercept)\n",
    "    print(\"Coefficient :\",learning_rate)\n",
    "    #print(\"Score :\",score)\n",
    "    #score  is an accuracy measure\n",
    "    plt.scatter(x_train,y_train,label='timings_data')\n",
    "    plt.plot(x_test,y_test,color='red',label='predicted')\n",
    "    plt.legend()\n",
    "    plt.show()\n",
    "    x_test=list((np.exp(x_test-1)).reshape(-1,1))\n",
    "    y_test=list((np.exp(y_test)-1).reshape(-1,1))\n",
    "    output_df=pd.DataFrame({'X_VALUES':x_test,'Y_VALUES':y_test})\n",
    "    output_df.to_csv('Smart_watch_test_data.csv',index='False',encoding='utf-8')\n",
    "    return output_df"
   ]
  },
  {
   "cell_type": "code",
   "execution_count": 147,
   "metadata": {},
   "outputs": [],
   "source": [
    "def main():\n",
    "    x_train,y_train,x_test=get_data()\n",
    "    plt.scatter(x_train,y_train)\n",
    "    plt.show()\n",
    "    #normalize\n",
    "    x_train=(x_train-x_train.mean())/x_train.std()\n",
    "    y_train=(y_train-y_train.mean())/y_train.std()\n",
    "    plt.scatter(x_train,y_train)\n",
    "    plt.scatter(x_train,y_train)\n",
    "    model=train_model(x_train,y_train)\n",
    "    y_test=predict_y(model,x_test)\n",
    "    #print(x_test.reshape(-1,1).shape)\n",
    "    output_df=display_output(model,x_train,y_train,x_test,y_test)\n",
    "    return output_df"
   ]
  },
  {
   "cell_type": "code",
   "execution_count": 148,
   "metadata": {},
   "outputs": [
    {
     "data": {
      "image/png": "[encoded data removed]",
      "text/plain": [
       "<Figure size 432x288 with 1 Axes>"
      ]
     },
     "metadata": {
      "needs_background": "light"
     },
     "output_type": "display_data"
    },
    {
     "name": "stdout",
     "output_type": "stream",
     "text": [
      "Bias/Intercept : [5.54274622e-20]\n",
      "Coefficient : [[0.98537365]]\n"
     ]
    },
    {
     "data": {
      "image/png": "[encoded data removed]",
      "text/plain": [
       "<Figure size 432x288 with 1 Axes>"
      ]
     },
     "metadata": {
      "needs_background": "light"
     },
     "output_type": "display_data"
    }
   ],
   "source": [
    "if __name__=='__main__':\n",
    "    output_df=main()"
   ]
  },
  {
   "cell_type": "code",
   "execution_count": 149,
   "metadata": {},
   "outputs": [
    {
     "data": {
      "text/html": [
       "<div>\n",
       "<style scoped>\n",
       "    .dataframe tbody tr th:only-of-type {\n",
       "        vertical-align: middle;\n",
       "    }\n",
       "\n",
       "    .dataframe tbody tr th {\n",
       "        vertical-align: top;\n",
       "    }\n",
       "\n",
       "    .dataframe thead th {\n",
       "        text-align: right;\n",
       "    }\n",
       "</style>\n",
       "<table border=\"1\" class=\"dataframe\">\n",
       "  <thead>\n",
       "    <tr style=\"text-align: right;\">\n",
       "      <th></th>\n",
       "      <th>X_VALUES</th>\n",
       "      <th>Y_VALUES</th>\n",
       "    </tr>\n",
       "  </thead>\n",
       "  <tbody>\n",
       "    <tr>\n",
       "      <th>0</th>\n",
       "      <td>[0.05625027134121877]</td>\n",
       "      <td>[-0.8428378077720868]</td>\n",
       "    </tr>\n",
       "    <tr>\n",
       "      <th>1</th>\n",
       "      <td>[0.154272938724139]</td>\n",
       "      <td>[-0.5752782999591399]</td>\n",
       "    </tr>\n",
       "    <tr>\n",
       "      <th>2</th>\n",
       "      <td>[0.02929957041670885]</td>\n",
       "      <td>[-0.9173528619172837]</td>\n",
       "    </tr>\n",
       "    <tr>\n",
       "      <th>3</th>\n",
       "      <td>[5.813631665703419]</td>\n",
       "      <td>[14.177798069971917]</td>\n",
       "    </tr>\n",
       "    <tr>\n",
       "      <th>4</th>\n",
       "      <td>[0.664314318190422]</td>\n",
       "      <td>[0.7902512130631663]</td>\n",
       "    </tr>\n",
       "    <tr>\n",
       "      <th>5</th>\n",
       "      <td>[0.10070090712521851]</td>\n",
       "      <td>[-0.7210298691360193]</td>\n",
       "    </tr>\n",
       "    <tr>\n",
       "      <th>6</th>\n",
       "      <td>[0.3021511149662727]</td>\n",
       "      <td>[-0.17630019526546514]</td>\n",
       "    </tr>\n",
       "    <tr>\n",
       "      <th>7</th>\n",
       "      <td>[0.4926665800645099]</td>\n",
       "      <td>[0.33349768874175956]</td>\n",
       "    </tr>\n",
       "    <tr>\n",
       "      <th>8</th>\n",
       "      <td>[0.16175165674164865]</td>\n",
       "      <td>[-0.5549972109565333]</td>\n",
       "    </tr>\n",
       "    <tr>\n",
       "      <th>9</th>\n",
       "      <td>[0.08195652635883915]</td>\n",
       "      <td>[-0.7722721261750922]</td>\n",
       "    </tr>\n",
       "    <tr>\n",
       "      <th>10</th>\n",
       "      <td>[0.30766177139003503]</td>\n",
       "      <td>[-0.16149918143835273]</td>\n",
       "    </tr>\n",
       "    <tr>\n",
       "      <th>11</th>\n",
       "      <td>[0.39542148031955354]</td>\n",
       "      <td>[0.07373258747426426]</td>\n",
       "    </tr>\n",
       "    <tr>\n",
       "      <th>12</th>\n",
       "      <td>[0.22209992280864133]</td>\n",
       "      <td>[-0.3917972788767571]</td>\n",
       "    </tr>\n",
       "    <tr>\n",
       "      <th>13</th>\n",
       "      <td>[0.8196639172104374]</td>\n",
       "      <td>[1.2021218576331432]</td>\n",
       "    </tr>\n",
       "    <tr>\n",
       "      <th>14</th>\n",
       "      <td>[0.40591245902750406]</td>\n",
       "      <td>[0.10179786223985987]</td>\n",
       "    </tr>\n",
       "    <tr>\n",
       "      <th>15</th>\n",
       "      <td>[0.3123524571803737]</td>\n",
       "      <td>[-0.14890357558533152]</td>\n",
       "    </tr>\n",
       "    <tr>\n",
       "      <th>16</th>\n",
       "      <td>[0.4880488905355986]</td>\n",
       "      <td>[0.3211809792032416]</td>\n",
       "    </tr>\n",
       "    <tr>\n",
       "      <th>17</th>\n",
       "      <td>[1.338039382554275]</td>\n",
       "      <td>[2.5691225052418205]</td>\n",
       "    </tr>\n",
       "    <tr>\n",
       "      <th>18</th>\n",
       "      <td>[3.1711504799047123]</td>\n",
       "      <td>[7.352725583220305]</td>\n",
       "    </tr>\n",
       "    <tr>\n",
       "      <th>19</th>\n",
       "      <td>[0.46788009667067054]</td>\n",
       "      <td>[0.267364787878577]</td>\n",
       "    </tr>\n",
       "  </tbody>\n",
       "</table>\n",
       "</div>"
      ],
      "text/plain": [
       "                 X_VALUES                Y_VALUES\n",
       "0   [0.05625027134121877]   [-0.8428378077720868]\n",
       "1     [0.154272938724139]   [-0.5752782999591399]\n",
       "2   [0.02929957041670885]   [-0.9173528619172837]\n",
       "3     [5.813631665703419]    [14.177798069971917]\n",
       "4     [0.664314318190422]    [0.7902512130631663]\n",
       "5   [0.10070090712521851]   [-0.7210298691360193]\n",
       "6    [0.3021511149662727]  [-0.17630019526546514]\n",
       "7    [0.4926665800645099]   [0.33349768874175956]\n",
       "8   [0.16175165674164865]   [-0.5549972109565333]\n",
       "9   [0.08195652635883915]   [-0.7722721261750922]\n",
       "10  [0.30766177139003503]  [-0.16149918143835273]\n",
       "11  [0.39542148031955354]   [0.07373258747426426]\n",
       "12  [0.22209992280864133]   [-0.3917972788767571]\n",
       "13   [0.8196639172104374]    [1.2021218576331432]\n",
       "14  [0.40591245902750406]   [0.10179786223985987]\n",
       "15   [0.3123524571803737]  [-0.14890357558533152]\n",
       "16   [0.4880488905355986]    [0.3211809792032416]\n",
       "17    [1.338039382554275]    [2.5691225052418205]\n",
       "18   [3.1711504799047123]     [7.352725583220305]\n",
       "19  [0.46788009667067054]     [0.267364787878577]"
      ]
     },
     "execution_count": 149,
     "metadata": {},
     "output_type": "execute_result"
    }
   ],
   "source": [
    "output_df.head(20)"
   ]
  },
  {
   "cell_type": "code",
   "execution_count": null,
   "metadata": {},
   "outputs": [],
   "source": []
  },
  {
   "cell_type": "code",
   "execution_count": null,
   "metadata": {},
   "outputs": [],
   "source": []
  }
 ],
 "metadata": {
  "kernelspec": {
   "display_name": "Python 3",
   "language": "python",
   "name": "python3"
  },
  "language_info": {
   "codemirror_mode": {
    "name": "ipython",
    "version": 3
   },
   "file_extension": ".py",
   "mimetype": "text/x-python",
   "name": "python",
   "nbconvert_exporter": "python",
   "pygments_lexer": "ipython3",
   "version": "3.8.5"
  }
 },
 "nbformat": 4,
 "nbformat_minor": 2
}
