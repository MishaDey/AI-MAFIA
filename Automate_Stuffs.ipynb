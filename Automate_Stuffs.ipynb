{
 "cells": [
  {
   "cell_type": "code",
   "execution_count": 1,
   "metadata": {},
   "outputs": [],
   "source": [
    "#Automate Linkedin and Tinder with python\n",
    "# Automate the Boring stuffs -- Book -- Interesting-- Reference\n",
    "# py AutoGUI -- Play with Graphics/Monitor using Keyboard"
   ]
  },
  {
   "cell_type": "code",
   "execution_count": 3,
   "metadata": {},
   "outputs": [
    {
     "name": "stdout",
     "output_type": "stream",
     "text": [
      "Defaulting to user installation because normal site-packages is not writeable\n",
      "Collecting pyautogui\n",
      "  Downloading PyAutoGUI-0.9.50.tar.gz (57 kB)\n",
      "\u001b[K     |████████████████████████████████| 57 kB 258 kB/s eta 0:00:01\n",
      "\u001b[?25hCollecting PyTweening>=1.0.1\n",
      "  Downloading PyTweening-1.0.3.zip (15 kB)\n",
      "Collecting mouseinfo\n",
      "  Downloading MouseInfo-0.1.3.tar.gz (10 kB)\n",
      "Collecting pygetwindow>=0.0.5\n",
      "  Downloading PyGetWindow-0.0.8.tar.gz (9.6 kB)\n",
      "Collecting pymsgbox\n",
      "  Downloading PyMsgBox-1.0.8.tar.gz (18 kB)\n",
      "  Installing build dependencies ... \u001b[?25ldone\n",
      "\u001b[?25h  Getting requirements to build wheel ... \u001b[?25ldone\n",
      "\u001b[?25h    Preparing wheel metadata ... \u001b[?25ldone\n",
      "\u001b[?25hCollecting pyscreeze>=0.1.21\n",
      "  Downloading PyScreeze-0.1.26.tar.gz (23 kB)\n",
      "Collecting python3-Xlib\n",
      "  Downloading python3-xlib-0.15.tar.gz (132 kB)\n",
      "\u001b[K     |████████████████████████████████| 132 kB 588 kB/s eta 0:00:01\n",
      "\u001b[?25hRequirement already satisfied: pyperclip in /usr/lib/python3/dist-packages (from mouseinfo->pyautogui) (1.8.0)\n",
      "Collecting pyrect\n",
      "  Downloading PyRect-0.1.4.tar.gz (15 kB)\n",
      "Requirement already satisfied: Pillow>=6.2.1 in /usr/lib/python3/dist-packages (from pyscreeze>=0.1.21->pyautogui) (6.2.1)\n",
      "Building wheels for collected packages: pyautogui, PyTweening, mouseinfo, pygetwindow, pymsgbox, pyscreeze, python3-Xlib, pyrect\n",
      "  Building wheel for pyautogui (setup.py) ... \u001b[?25ldone\n",
      "\u001b[?25h  Created wheel for pyautogui: filename=PyAutoGUI-0.9.50-py3-none-any.whl size=35131 sha256=ea465746c6fffc3a1b5806e1ba4fd4d8c67acd1eb7be9aaf4754055abdf19074\n",
      "  Stored in directory: /home/mishadey/.cache/pip/wheels/75/fb/d9/ebe8cc15aaaf5f3e3528d520a8f8722a669f4fd0a59770db38\n",
      "  Building wheel for PyTweening (setup.py) ... \u001b[?25ldone\n",
      "\u001b[?25h  Created wheel for PyTweening: filename=PyTweening-1.0.3-py3-none-any.whl size=3815 sha256=e8935f756c74afd69239a7a26d93f48ac38f31a327e78289d36ca1680046b8cd\n",
      "  Stored in directory: /home/mishadey/.cache/pip/wheels/e7/50/20/790fbd95739abfdf0348bef99d5cc0c7c2930a19a91f602ddc\n",
      "  Building wheel for mouseinfo (setup.py) ... \u001b[?25ldone\n",
      "\u001b[?25h  Created wheel for mouseinfo: filename=MouseInfo-0.1.3-py3-none-any.whl size=10906 sha256=66be97c9120fd6c8d5a0681e1f2c14fd77871ccc80e768c2eadb53bc6a3bafd9\n",
      "  Stored in directory: /home/mishadey/.cache/pip/wheels/d1/72/fb/35f403de66285df8ecca7049bcc61bfb57aba0f76d1f08f7eb\n",
      "  Building wheel for pygetwindow (setup.py) ... \u001b[?25ldone\n",
      "\u001b[?25h  Created wheel for pygetwindow: filename=PyGetWindow-0.0.8-py3-none-any.whl size=11007 sha256=8c62c27e44f53f2814404da534e64a4d4125178174eb2c8f06b4dca6b916ed81\n",
      "  Stored in directory: /home/mishadey/.cache/pip/wheels/33/09/b0/7b660b52e7bff3d172abae37168a248a388b6dbc36cc188f19\n",
      "  Building wheel for pymsgbox (PEP 517) ... \u001b[?25ldone\n",
      "\u001b[?25h  Created wheel for pymsgbox: filename=PyMsgBox-1.0.8-py3-none-any.whl size=7413 sha256=5b2a2819f3065704717474804d7c713b4e757e4692cc3488aa04710ee5007105\n",
      "  Stored in directory: /home/mishadey/.cache/pip/wheels/80/1d/fe/595e212847aea2bf5d46d12e9b7bf09e099b34fa296bad338b\n",
      "  Building wheel for pyscreeze (setup.py) ... \u001b[?25ldone\n",
      "\u001b[?25h  Created wheel for pyscreeze: filename=PyScreeze-0.1.26-py3-none-any.whl size=11932 sha256=53b5f3c9d41eef982739e23a3652a07cafa5439806270f27cccbae2608023432\n",
      "  Stored in directory: /home/mishadey/.cache/pip/wheels/b9/1c/f2/f6a3a846873ff464c47a46baa7edc12fb5f266d296494201fe\n",
      "  Building wheel for python3-Xlib (setup.py) ... \u001b[?25ldone\n",
      "\u001b[?25h  Created wheel for python3-Xlib: filename=python3_xlib-0.15-py3-none-any.whl size=109517 sha256=214b1da293b47247253a24493f89360fa275edfe7fb498fd8f95778b43d13cc6\n",
      "  Stored in directory: /home/mishadey/.cache/pip/wheels/46/4e/a7/90774eeed70e4e93598bf4cbb1ef00c56e6bdc0fb99cc4215d\n",
      "  Building wheel for pyrect (setup.py) ... \u001b[?25ldone\n",
      "\u001b[?25h  Created wheel for pyrect: filename=PyRect-0.1.4-py2.py3-none-any.whl size=9547 sha256=0566ebe16d4892734da0b1ed724e41d2304e876b0459f1836c3955c296cfb11b\n",
      "  Stored in directory: /home/mishadey/.cache/pip/wheels/d1/e4/47/c62f8291b16b6df7e89ac885881ff71f35ca04c6e384251de9\n",
      "Successfully built pyautogui PyTweening mouseinfo pygetwindow pymsgbox pyscreeze python3-Xlib pyrect\n",
      "Installing collected packages: PyTweening, python3-Xlib, mouseinfo, pyrect, pygetwindow, pymsgbox, pyscreeze, pyautogui\n",
      "Successfully installed PyTweening-1.0.3 mouseinfo-0.1.3 pyautogui-0.9.50 pygetwindow-0.0.8 pymsgbox-1.0.8 pyrect-0.1.4 pyscreeze-0.1.26 python3-Xlib-0.15\n"
     ]
    }
   ],
   "source": [
    "!pip3 install pyautogui"
   ]
  },
  {
   "cell_type": "code",
   "execution_count": 10,
   "metadata": {},
   "outputs": [
    {
     "data": {
      "text/plain": [
       "Point(x=1472, y=437)"
      ]
     },
     "execution_count": 10,
     "metadata": {},
     "output_type": "execute_result"
    }
   ],
   "source": [
    "import pyautogui as pg\n",
    "import time\n",
    "pg.position()"
   ]
  },
  {
   "cell_type": "code",
   "execution_count": 11,
   "metadata": {},
   "outputs": [],
   "source": [
    "#automate any website\n",
    "for i in range(11):\n",
    "    pg.click(x=1472, y=437)\n",
    "    time.sleep(0.2)"
   ]
  },
  {
   "cell_type": "code",
   "execution_count": null,
   "metadata": {},
   "outputs": [],
   "source": []
  }
 ],
 "metadata": {
  "kernelspec": {
   "display_name": "Python 3",
   "language": "python",
   "name": "python3"
  },
  "language_info": {
   "codemirror_mode": {
    "name": "ipython",
    "version": 3
   },
   "file_extension": ".py",
   "mimetype": "text/x-python",
   "name": "python",
   "nbconvert_exporter": "python",
   "pygments_lexer": "ipython3",
   "version": "3.8.5"
  }
 },
 "nbformat": 4,
 "nbformat_minor": 2
}
