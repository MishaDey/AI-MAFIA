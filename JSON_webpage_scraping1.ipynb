{
 "cells": [
  {
   "cell_type": "code",
   "execution_count": 6,
   "metadata": {},
   "outputs": [
    {
     "data": {
      "text/plain": [
       "'\\nScraping a json based website using python :\\n\\nAsynchronous web clients- using Javascript(AJAX) and XML:\\n- limitation of only being able to communicate to the server from where they are downloaded\\n- problematic for deployment environments that span multiple domains\\n- browser-specific code\\n- \"same origin policy\"\\n\\nJavaScript Object Notation (JSON) :\\n-Web 2.0\\n-without the cross-domain and cross-browser limitations of AJAX\\n-used to develop dynamic web pages\\n'"
      ]
     },
     "execution_count": 6,
     "metadata": {},
     "output_type": "execute_result"
    }
   ],
   "source": [
    "'''\n",
    "Scraping a json/JAvascript  based website using python :\n",
    "https://www.tutorialspoint.com/python_web_scraping/python_web_scraping_dynamic_websites.htm\n",
    "https://medium.com/@mahmudahsan/how-to-scrap-data-from-javascript-based-website-using-python-selenium-and-headless-web-driver-531c7fe0c01f#:~:text=There%20are%20different%20ways%20to,files%20are%20generated%20from%20Server.\n",
    "Asynchronous web clients- using Javascript(AJAX) and XML:\n",
    "- limitation of only being able to communicate to the server from where they are downloaded\n",
    "- problematic for deployment environments that span multiple domains\n",
    "- browser-specific code\n",
    "- \"same origin policy\"\n",
    "\n",
    "JavaScript Object Notation (JSON) :\n",
    "-Web 2.0\n",
    "-without the cross-domain and cross-browser limitations of AJAX\n",
    "-used to develop dynamic web pages\n",
    "'''"
   ]
  },
  {
   "cell_type": "code",
   "execution_count": 66,
   "metadata": {},
   "outputs": [],
   "source": [
    "#!pip3 uninstall selenium\n",
    "#!conda install -c conda-forge phantomjs\n",
    "import time\n",
    "import sys\n",
    "from selenium import webdriver\n",
    "from selenium.webdriver.chrome.options import Options\n",
    "from selenium.webdriver.common.by import By\n",
    "from selenium.webdriver.common.keys import Keys\n",
    "from selenium.webdriver.support.ui import WebDriverWait\n",
    "from selenium.webdriver.support.expected_conditions import presence_of_element_located\n",
    "from bs4 import BeautifulSoup\n",
    "from webdriver_manager.chrome import ChromeDriverManager"
   ]
  },
  {
   "cell_type": "code",
   "execution_count": 69,
   "metadata": {},
   "outputs": [
    {
     "name": "stderr",
     "output_type": "stream",
     "text": [
      "[WDM] - Current google-chrome version is 84.0.4147\n",
      "[WDM] - Get LATEST driver version for 84.0.4147\n"
     ]
    },
    {
     "name": "stdout",
     "output_type": "stream",
     "text": [
      " \n"
     ]
    },
    {
     "name": "stderr",
     "output_type": "stream",
     "text": [
      "[WDM] - Driver [/home/mishadey/.wdm/drivers/chromedriver/linux64/84.0.4147.30/chromedriver] found in cache\n",
      "<ipython-input-69-f9306c0d5eff>:5: DeprecationWarning: executable_path has been deprecated, please pass in a Service object\n",
      "  web_driver=webdriver.Chrome(ChromeDriverManager().install())\n"
     ]
    },
    {
     "name": "stdout",
     "output_type": "stream",
     "text": [
      "Enter the url of the json based website: \n",
      "https://www.brainyquote.com/\n",
      "Enter the query :love\n",
      "[['Kindness in words creates confidence. Kindness in thinking creates profoundness. Kindness in giving creates love.', 'Lao Tzu', 'Love Kindness Confidence Thinking'], ['Love is of all passions the strongest, for it attacks simultaneously the head, the heart and the senses.', 'Lao Tzu', 'Love Heart Love Is Head'], ['I have decided to stick with love. Hate is too great a burden to bear.', 'Martin Luther King, Jr.', 'Love Great Hate Burden'], ['Love and compassion are necessities, not luxuries. Without them humanity cannot survive.', 'Dalai Lama', 'Love Humanity Compassion Survive'], ['Let us always meet each other with smile, for the smile is the beginning of love.', 'Mother Teresa', 'Love Smile Beginning Always'], ['You can search throughout the entire universe for someone who is more deserving of your love and affection than you are yourself, and that person is not to be found anywhere. You yourself, as much as anybody in the entire universe deserve your love and affection.', 'Buddha', 'Love You Yourself Universe'], ['One is loved because one is loved. No reason is needed for loving.', 'Paulo Coelho', 'Love Loving Reason Loved Needed'], ['We are never so defensless against suffering as when we love.', 'Sigmund Freud', 'Love Suffering Never Against'], [\"Love is always bestowed as a gift - freely, willingly and without expectation. We don't love to be loved; we love to love.\", 'Leo Buscaglia', 'Love Love Is Gift Always'], ['All mankind love a lover.', 'Ralph Waldo Emerson', 'Love Mankind Lover'], ['The course of true love never did run smooth.', 'William Shakespeare', 'Love True Love Never True'], ['Man must evolve for all human conflict a method which rejects revenge, aggression and retaliation. The foundation of such a method is love.', 'Martin Luther King, Jr.', 'Love Man Revenge Foundation'], ['There can be no deep disappointment where there is not deep love.', 'Martin Luther King, Jr.', 'Love Disappointment Deep Where'], ['What we have once enjoyed we can never lose. All that we love deeply becomes a part of us.', 'Helen Keller', 'Love Lose Never Us'], ['Love is like a beautiful flower which I may not touch, but whose fragrance makes the garden a place of delight just the same.', 'Helen Keller', 'Love Beautiful Flower Love Is'], ['Life without love is like a tree without blossoms or fruit.', 'Khalil Gibran', 'Life Love Fruit Tree Love Is'], ['Love is a canvas furnished by nature and embroidered by imagination.', 'Voltaire', 'Love Nature Love Is Imagination'], ['A new command I give you: Love one another. As I have loved you, so you must love one another.', 'Jesus Christ', 'Love You New Loved'], ['As the Father has loved me, so have I loved you.', 'Jesus Christ', 'Love Me You Father Loved'], ['Passion is momentary; love is enduring.', 'John Wooden', 'Love Love Is Passion Momentary'], ['Affection is responsible for nine-tenths of whatever solid and durable happiness there is in our lives.', 'C. S. Lewis', 'Love Happiness Affection Whatever'], ['The hunger for love is much more difficult to remove than the hunger for bread.', 'Mother Teresa', 'Love Love Is Difficult Bread More'], ['Spread love everywhere you go. Let no one ever come to you without leaving happier.', 'Mother Teresa', 'Love You Go Spread'], ['I was born with an enormous need for affection, and a terrible need to give it.', 'Audrey Hepburn', 'Love Affection Born Need'], ['For small creatures such as we the vastness is bearable only through love.', 'Carl Sagan', 'Love Through Only Creatures Small'], ['Tell me who admires and loves you, and I will tell you who you are.', 'Antoine de Saint-Exupery', 'Love Me You Will']]\n"
     ]
    }
   ],
   "source": [
    "#running in the background and controlled by our selenium library--is called as headless browser\n",
    "#A headless browser is a type of software that can access webpages but does not show them to the user and can pipe the content of the webpages to another program.\n",
    "chrome_options=Options()\n",
    "chrome_options.add_argument('--headless')\n",
    "web_driver=webdriver.Chrome(ChromeDriverManager().install())\n",
    "url=input(\"Enter the url of the json based website: \\n\")\n",
    "search_query=input(\"Enter the query :\")\n",
    "with web_driver as driver:\n",
    "    wait=WebDriverWait(driver,10)\n",
    "    driver.get(url)\n",
    "    search=driver.find_element_by_id(\"hmSearch\")\n",
    "    search.send_keys(search_query + Keys.RETURN)\n",
    "    wait.until(presence_of_element_located((By.ID,\"quotesList\")))\n",
    "    results=driver.find_elements_by_class_name('m-brick')\n",
    "    quoteArr=[]\n",
    "    for quote in results:\n",
    "        quoteArr.append(quote.text.split('\\n'))\n",
    "    print(quoteArr)\n",
    "        "
   ]
  },
  {
   "cell_type": "code",
   "execution_count": null,
   "metadata": {},
   "outputs": [],
   "source": []
  },
  {
   "cell_type": "code",
   "execution_count": null,
   "metadata": {},
   "outputs": [],
   "source": []
  },
  {
   "cell_type": "code",
   "execution_count": null,
   "metadata": {},
   "outputs": [],
   "source": []
  }
 ],
 "metadata": {
  "kernelspec": {
   "display_name": "Python 3",
   "language": "python",
   "name": "python3"
  },
  "language_info": {
   "codemirror_mode": {
    "name": "ipython",
    "version": 3
   },
   "file_extension": ".py",
   "mimetype": "text/x-python",
   "name": "python",
   "nbconvert_exporter": "python",
   "pygments_lexer": "ipython3",
   "version": "3.8.5"
  }
 },
 "nbformat": 4,
 "nbformat_minor": 2
}
